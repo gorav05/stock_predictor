{
  "nbformat": 4,
  "nbformat_minor": 0,
  "metadata": {
    "colab": {
      "name": "stockpredictor.ipynb",
      "provenance": [],
      "collapsed_sections": [],
      "toc_visible": true
    },
    "kernelspec": {
      "name": "python3",
      "display_name": "Python 3"
    },
    "language_info": {
      "name": "python"
    }
  },
  "cells": [
    {
      "cell_type": "code",
      "metadata": {
        "id": "sP209yvdcj4n"
      },
      "source": [
        "import numpy as np\n",
        "import pandas as pd\n",
        "import matplotlib.pyplot as plt\n"
      ],
      "execution_count": 1,
      "outputs": []
    },
    {
      "cell_type": "code",
      "metadata": {
        "id": "kcV-cMXFc4Oz"
      },
      "source": [
        "dataset=pd.read_csv('Google_Stock_Price_Train.csv')\n",
        "training_set=dataset.iloc[:,1:2].values"
      ],
      "execution_count": 2,
      "outputs": []
    },
    {
      "cell_type": "markdown",
      "metadata": {
        "id": "ToloRZ5odYQB"
      },
      "source": [
        "#feature scaling"
      ]
    },
    {
      "cell_type": "code",
      "metadata": {
        "id": "1ttbUsRJdXvY"
      },
      "source": [
        "from sklearn.preprocessing import MinMaxScaler\n",
        "ms=MinMaxScaler()\n",
        "training_set_scaled=ms.fit_transform(training_set)"
      ],
      "execution_count": 3,
      "outputs": []
    },
    {
      "cell_type": "markdown",
      "metadata": {
        "id": "fGzEIu5bd0iv"
      },
      "source": [
        "making the timestep 60 for 1 output"
      ]
    },
    {
      "cell_type": "code",
      "metadata": {
        "id": "o8byNHdEdzex"
      },
      "source": [
        "x_train=[]\n",
        "y_train=[]\n",
        "for i in range(60,1258):\n",
        "  x_train.append(training_set_scaled[i-60:i,0])\n",
        "  y_train.append(training_set_scaled[i:i+1,0])\n",
        "x_train,y_train=np.array(x_train),np.array(y_train)\n"
      ],
      "execution_count": 4,
      "outputs": []
    },
    {
      "cell_type": "markdown",
      "metadata": {
        "id": "4LK8HZchew5M"
      },
      "source": [
        "reshaping the x_train"
      ]
    },
    {
      "cell_type": "code",
      "metadata": {
        "id": "NJW9zozQewOH"
      },
      "source": [
        "x_train=np.reshape(x_train,(x_train.shape[0],x_train.shape[1],1))"
      ],
      "execution_count": 5,
      "outputs": []
    },
    {
      "cell_type": "markdown",
      "metadata": {
        "id": "wioT7bIOfARw"
      },
      "source": [
        "# Building the RNN\n"
      ]
    },
    {
      "cell_type": "code",
      "metadata": {
        "id": "iI26KvxafD0Z"
      },
      "source": [
        "from keras.models import Sequential\n",
        "from keras.layers import Dense\n",
        "from keras.layers import LSTM\n",
        "from keras.layers import Dropout"
      ],
      "execution_count": 6,
      "outputs": []
    },
    {
      "cell_type": "markdown",
      "metadata": {
        "id": "L5OdiIImmfmE"
      },
      "source": [
        "adding the first lstm layer with dropout reguralisation"
      ]
    },
    {
      "cell_type": "code",
      "metadata": {
        "id": "qhvA2Zj5nwHN"
      },
      "source": [
        "regressor=Sequential()"
      ],
      "execution_count": 8,
      "outputs": []
    },
    {
      "cell_type": "code",
      "metadata": {
        "id": "ARxfgF2smsMx"
      },
      "source": [
        "\n",
        "regressor.add(LSTM(units=60,return_sequences=True,input_shape =(x_train.shape[1],1)))\n",
        "regressor.add(Dropout(0.2))"
      ],
      "execution_count": 9,
      "outputs": []
    },
    {
      "cell_type": "markdown",
      "metadata": {
        "id": "_4yEi8MNoNmu"
      },
      "source": [
        "Adding second lstm layer with some dropout reguralisation"
      ]
    },
    {
      "cell_type": "code",
      "metadata": {
        "id": "Wnd75R4roNLA"
      },
      "source": [
        "regressor.add(LSTM(60,return_sequences=True))\n",
        "regressor.add(Dropout(0.2))"
      ],
      "execution_count": 10,
      "outputs": []
    },
    {
      "cell_type": "markdown",
      "metadata": {
        "id": "pW4tYt3RojMn"
      },
      "source": [
        "adding the third sequential layer with some dropout reguralisation"
      ]
    },
    {
      "cell_type": "code",
      "metadata": {
        "id": "M5KV3Jy-oi6K"
      },
      "source": [
        "regressor.add(LSTM(units=60,return_sequences=True))\n",
        "regressor.add(Dropout(0.2))"
      ],
      "execution_count": 11,
      "outputs": []
    },
    {
      "cell_type": "markdown",
      "metadata": {
        "id": "npkvFRJQo0mD"
      },
      "source": [
        "Adding the fourth and final lstm layer with dropout regurlisation"
      ]
    },
    {
      "cell_type": "code",
      "metadata": {
        "id": "VN64MdIbo0RF"
      },
      "source": [
        "regressor.add(LSTM(units=60))\n",
        "regressor.add(Dropout(0.2))"
      ],
      "execution_count": 12,
      "outputs": []
    },
    {
      "cell_type": "markdown",
      "metadata": {
        "id": "LMjUJTA_pFH-"
      },
      "source": [
        "Adding the output layer"
      ]
    },
    {
      "cell_type": "code",
      "metadata": {
        "id": "Q1i7FIQgpHIu"
      },
      "source": [
        "regressor.add(Dense(units=1))"
      ],
      "execution_count": 13,
      "outputs": []
    },
    {
      "cell_type": "markdown",
      "metadata": {
        "id": "VA88Dr8QpUba"
      },
      "source": [
        "#Compling the RNN"
      ]
    },
    {
      "cell_type": "code",
      "metadata": {
        "id": "XbIzDEhLpYHj"
      },
      "source": [
        "regressor.compile(optimizer='adam',loss='mean_squared_error')"
      ],
      "execution_count": 14,
      "outputs": []
    },
    {
      "cell_type": "markdown",
      "metadata": {
        "id": "ObrCcxiHshTb"
      },
      "source": [
        "fitting the dataset to the rnn model"
      ]
    },
    {
      "cell_type": "code",
      "metadata": {
        "colab": {
          "base_uri": "https://localhost:8080/"
        },
        "id": "2TJPFijzsnKP",
        "outputId": "a3a74ab2-7259-484b-c596-1453ea34dcd0"
      },
      "source": [
        "regressor.fit(x_train,y_train,epochs=80,batch_size=32)"
      ],
      "execution_count": 15,
      "outputs": [
        {
          "output_type": "stream",
          "text": [
            "Epoch 1/80\n",
            "38/38 [==============================] - 31s 132ms/step - loss: 0.0891\n",
            "Epoch 2/80\n",
            "38/38 [==============================] - 5s 133ms/step - loss: 0.0067\n",
            "Epoch 3/80\n",
            "38/38 [==============================] - 5s 125ms/step - loss: 0.0050\n",
            "Epoch 4/80\n",
            "38/38 [==============================] - 5s 131ms/step - loss: 0.0063\n",
            "Epoch 5/80\n",
            "38/38 [==============================] - 5s 125ms/step - loss: 0.0042\n",
            "Epoch 6/80\n",
            "38/38 [==============================] - 5s 130ms/step - loss: 0.0044\n",
            "Epoch 7/80\n",
            "38/38 [==============================] - 5s 132ms/step - loss: 0.0049\n",
            "Epoch 8/80\n",
            "38/38 [==============================] - 5s 127ms/step - loss: 0.0044\n",
            "Epoch 9/80\n",
            "38/38 [==============================] - 6s 145ms/step - loss: 0.0037\n",
            "Epoch 10/80\n",
            "38/38 [==============================] - 5s 138ms/step - loss: 0.0049\n",
            "Epoch 11/80\n",
            "38/38 [==============================] - 5s 127ms/step - loss: 0.0041\n",
            "Epoch 12/80\n",
            "38/38 [==============================] - 5s 142ms/step - loss: 0.0035\n",
            "Epoch 13/80\n",
            "38/38 [==============================] - 5s 129ms/step - loss: 0.0036\n",
            "Epoch 14/80\n",
            "38/38 [==============================] - 5s 126ms/step - loss: 0.0030\n",
            "Epoch 15/80\n",
            "38/38 [==============================] - 5s 129ms/step - loss: 0.0039\n",
            "Epoch 16/80\n",
            "38/38 [==============================] - 5s 126ms/step - loss: 0.0034\n",
            "Epoch 17/80\n",
            "38/38 [==============================] - 5s 132ms/step - loss: 0.0033\n",
            "Epoch 18/80\n",
            "38/38 [==============================] - 5s 144ms/step - loss: 0.0032\n",
            "Epoch 19/80\n",
            "38/38 [==============================] - 5s 127ms/step - loss: 0.0039\n",
            "Epoch 20/80\n",
            "38/38 [==============================] - 5s 129ms/step - loss: 0.0038\n",
            "Epoch 21/80\n",
            "38/38 [==============================] - 5s 122ms/step - loss: 0.0033\n",
            "Epoch 22/80\n",
            "38/38 [==============================] - 5s 123ms/step - loss: 0.0037\n",
            "Epoch 23/80\n",
            "38/38 [==============================] - 5s 127ms/step - loss: 0.0030\n",
            "Epoch 24/80\n",
            "38/38 [==============================] - 5s 134ms/step - loss: 0.0034\n",
            "Epoch 25/80\n",
            "38/38 [==============================] - 5s 127ms/step - loss: 0.0031\n",
            "Epoch 26/80\n",
            "38/38 [==============================] - 5s 136ms/step - loss: 0.0029\n",
            "Epoch 27/80\n",
            "38/38 [==============================] - 5s 126ms/step - loss: 0.0028\n",
            "Epoch 28/80\n",
            "38/38 [==============================] - 5s 127ms/step - loss: 0.0029\n",
            "Epoch 29/80\n",
            "38/38 [==============================] - 5s 130ms/step - loss: 0.0032\n",
            "Epoch 30/80\n",
            "38/38 [==============================] - 5s 127ms/step - loss: 0.0029\n",
            "Epoch 31/80\n",
            "38/38 [==============================] - 5s 128ms/step - loss: 0.0030\n",
            "Epoch 32/80\n",
            "38/38 [==============================] - 5s 132ms/step - loss: 0.0035\n",
            "Epoch 33/80\n",
            "38/38 [==============================] - 5s 130ms/step - loss: 0.0033\n",
            "Epoch 34/80\n",
            "38/38 [==============================] - 5s 137ms/step - loss: 0.0025\n",
            "Epoch 35/80\n",
            "38/38 [==============================] - 5s 128ms/step - loss: 0.0023\n",
            "Epoch 36/80\n",
            "38/38 [==============================] - 5s 131ms/step - loss: 0.0028\n",
            "Epoch 37/80\n",
            "38/38 [==============================] - 5s 123ms/step - loss: 0.0023\n",
            "Epoch 38/80\n",
            "38/38 [==============================] - 5s 128ms/step - loss: 0.0023\n",
            "Epoch 39/80\n",
            "38/38 [==============================] - 5s 125ms/step - loss: 0.0023\n",
            "Epoch 40/80\n",
            "38/38 [==============================] - 5s 127ms/step - loss: 0.0024\n",
            "Epoch 41/80\n",
            "38/38 [==============================] - 5s 126ms/step - loss: 0.0028\n",
            "Epoch 42/80\n",
            "38/38 [==============================] - 5s 125ms/step - loss: 0.0032\n",
            "Epoch 43/80\n",
            "38/38 [==============================] - 5s 124ms/step - loss: 0.0025\n",
            "Epoch 44/80\n",
            "38/38 [==============================] - 5s 132ms/step - loss: 0.0022\n",
            "Epoch 45/80\n",
            "38/38 [==============================] - 5s 130ms/step - loss: 0.0023\n",
            "Epoch 46/80\n",
            "38/38 [==============================] - 5s 128ms/step - loss: 0.0020\n",
            "Epoch 47/80\n",
            "38/38 [==============================] - 5s 129ms/step - loss: 0.0023\n",
            "Epoch 48/80\n",
            "38/38 [==============================] - 5s 129ms/step - loss: 0.0023\n",
            "Epoch 49/80\n",
            "38/38 [==============================] - 5s 133ms/step - loss: 0.0021\n",
            "Epoch 50/80\n",
            "38/38 [==============================] - 5s 134ms/step - loss: 0.0028\n",
            "Epoch 51/80\n",
            "38/38 [==============================] - 5s 132ms/step - loss: 0.0022\n",
            "Epoch 52/80\n",
            "38/38 [==============================] - 5s 128ms/step - loss: 0.0019\n",
            "Epoch 53/80\n",
            "38/38 [==============================] - 5s 127ms/step - loss: 0.0019\n",
            "Epoch 54/80\n",
            "38/38 [==============================] - 5s 140ms/step - loss: 0.0020\n",
            "Epoch 55/80\n",
            "38/38 [==============================] - 5s 129ms/step - loss: 0.0017\n",
            "Epoch 56/80\n",
            "38/38 [==============================] - 5s 134ms/step - loss: 0.0021\n",
            "Epoch 57/80\n",
            "38/38 [==============================] - 5s 143ms/step - loss: 0.0018\n",
            "Epoch 58/80\n",
            "38/38 [==============================] - 5s 133ms/step - loss: 0.0022\n",
            "Epoch 59/80\n",
            "38/38 [==============================] - 5s 143ms/step - loss: 0.0023\n",
            "Epoch 60/80\n",
            "38/38 [==============================] - 5s 136ms/step - loss: 0.0019\n",
            "Epoch 61/80\n",
            "38/38 [==============================] - 5s 132ms/step - loss: 0.0023\n",
            "Epoch 62/80\n",
            "38/38 [==============================] - 5s 131ms/step - loss: 0.0020\n",
            "Epoch 63/80\n",
            "38/38 [==============================] - 5s 125ms/step - loss: 0.0016\n",
            "Epoch 64/80\n",
            "38/38 [==============================] - 5s 135ms/step - loss: 0.0020\n",
            "Epoch 65/80\n",
            "38/38 [==============================] - 5s 135ms/step - loss: 0.0021\n",
            "Epoch 66/80\n",
            "38/38 [==============================] - 5s 128ms/step - loss: 0.0016\n",
            "Epoch 67/80\n",
            "38/38 [==============================] - 5s 127ms/step - loss: 0.0017\n",
            "Epoch 68/80\n",
            "38/38 [==============================] - 5s 125ms/step - loss: 0.0019\n",
            "Epoch 69/80\n",
            "38/38 [==============================] - 5s 137ms/step - loss: 0.0022\n",
            "Epoch 70/80\n",
            "38/38 [==============================] - 5s 135ms/step - loss: 0.0019\n",
            "Epoch 71/80\n",
            "38/38 [==============================] - 5s 136ms/step - loss: 0.0019\n",
            "Epoch 72/80\n",
            "38/38 [==============================] - 5s 137ms/step - loss: 0.0019\n",
            "Epoch 73/80\n",
            "38/38 [==============================] - 5s 134ms/step - loss: 0.0016\n",
            "Epoch 74/80\n",
            "38/38 [==============================] - 5s 129ms/step - loss: 0.0017\n",
            "Epoch 75/80\n",
            "38/38 [==============================] - 5s 129ms/step - loss: 0.0016\n",
            "Epoch 76/80\n",
            "38/38 [==============================] - 5s 126ms/step - loss: 0.0015\n",
            "Epoch 77/80\n",
            "38/38 [==============================] - 5s 126ms/step - loss: 0.0013\n",
            "Epoch 78/80\n",
            "38/38 [==============================] - 5s 125ms/step - loss: 0.0016\n",
            "Epoch 79/80\n",
            "38/38 [==============================] - 5s 131ms/step - loss: 0.0016\n",
            "Epoch 80/80\n",
            "38/38 [==============================] - 5s 135ms/step - loss: 0.0016\n"
          ],
          "name": "stdout"
        },
        {
          "output_type": "execute_result",
          "data": {
            "text/plain": [
              "<keras.callbacks.History at 0x7f4c3d6dd550>"
            ]
          },
          "metadata": {
            "tags": []
          },
          "execution_count": 15
        }
      ]
    },
    {
      "cell_type": "markdown",
      "metadata": {
        "id": "-yi_6iRJurJi"
      },
      "source": [
        "importing the test dataset"
      ]
    },
    {
      "cell_type": "code",
      "metadata": {
        "id": "-0rAuaJDuq0U"
      },
      "source": [
        "dataset_test=pd.read_csv('Google_Stock_Price_Test.csv')\n",
        "test_set=dataset_test.iloc[:,1:2].values"
      ],
      "execution_count": 16,
      "outputs": []
    },
    {
      "cell_type": "markdown",
      "metadata": {
        "id": "kwN-Jbv3vBnD"
      },
      "source": [
        "predicting the value of test set"
      ]
    },
    {
      "cell_type": "code",
      "metadata": {
        "id": "aM5Q1TvdvAx3"
      },
      "source": [
        "dataset_total=pd.concat((dataset['Open'],dataset_test['Open']),axis=0)\n",
        "totals=dataset_total[len(dataset_total)-len(dataset_test)-60:].values\n",
        "totals=totals.reshape(-1,1)\n",
        "totals=ms.transform(totals)"
      ],
      "execution_count": 21,
      "outputs": []
    },
    {
      "cell_type": "code",
      "metadata": {
        "id": "mtM0KyCYrVGx"
      },
      "source": [
        "x_test=[]\n",
        "for i in range(60,80):\n",
        "  x_test.append(totals[i-60:i,0])\n",
        "x_test=np.array(x_test)\n",
        "x_test=np.reshape(x_test,(x_test.shape[0],x_test.shape[1],1))"
      ],
      "execution_count": 30,
      "outputs": []
    },
    {
      "cell_type": "code",
      "metadata": {
        "id": "gkYdAEtWtJ6d"
      },
      "source": [
        "y_pred=regressor.predict(x_test)"
      ],
      "execution_count": 33,
      "outputs": []
    },
    {
      "cell_type": "code",
      "metadata": {
        "id": "CZlczaafthfy"
      },
      "source": [
        "y_pred=ms.inverse_transform(y_pred)"
      ],
      "execution_count": 34,
      "outputs": []
    },
    {
      "cell_type": "code",
      "metadata": {
        "colab": {
          "base_uri": "https://localhost:8080/",
          "height": 295
        },
        "id": "iRkAasTwuD4s",
        "outputId": "992ad54c-b761-47ee-dbb9-937e3e003b81"
      },
      "source": [
        "plt.plot(test_set, color = 'red', label = 'Real Google Stock Price')\n",
        "plt.plot(y_pred, color = 'blue', label = 'Predicted Google Stock Price')\n",
        "plt.title('Google Stock Price Prediction')\n",
        "plt.xlabel('Time')\n",
        "plt.ylabel('Google Stock Price')\n",
        "plt.legend()\n",
        "plt.show()"
      ],
      "execution_count": 35,
      "outputs": [
        {
          "output_type": "display_data",
          "data": {
            "image/png": "[encoded data removed]",
            "text/plain": [
              "<Figure size 432x288 with 1 Axes>"
            ]
          },
          "metadata": {
            "tags": [],
            "needs_background": "light"
          }
        }
      ]
    }
  ]
}